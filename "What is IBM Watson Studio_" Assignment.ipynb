{
    "nbformat_minor": 1, 
    "cells": [
        {
            "source": "# My Jupyter Notebook on IBM Data Science Experience", 
            "cell_type": "markdown", 
            "metadata": {
                "collapsed": true
            }
        }, 
        {
            "source": "**Alex Hunt**  \nMaster's Student", 
            "cell_type": "markdown", 
            "metadata": {}
        }, 
        {
            "source": "_I am interested in learning data science so that I may better understand and answer important questions relating to sustainable development. I also find data science to be a fun and powerful method to help interact with the world around us._", 
            "cell_type": "markdown", 
            "metadata": {}
        }, 
        {
            "source": "### The code in the line below should produce a simple mathmatical output once executed", 
            "cell_type": "markdown", 
            "metadata": {}
        }, 
        {
            "source": "2 + (5 * 7)", 
            "cell_type": "code", 
            "metadata": {}, 
            "outputs": [
                {
                    "output_type": "execute_result", 
                    "data": {
                        "text/plain": "37"
                    }, 
                    "execution_count": 1, 
                    "metadata": {}
                }
            ], 
            "execution_count": 1
        }, 
        {
            "source": "1. Hello\n2. This\n3. Is\n\n---\n\n4. My \n5. First\n6. Watson Studio\n7. Project!\n\n> However I hope to continue making many more projects, hopefully with interesting visuals and maybe even some cool images or gifs for added flair.\n\n---\n\n| Also  | Here's  | A  | Table  |\n| ----- | :-----: | -- | -----: |\n| 1     | 2       | 3  | 4      |\n| A     | B       | C  | D      |", 
            "cell_type": "markdown", 
            "metadata": {}
        }
    ], 
    "metadata": {
        "kernelspec": {
            "display_name": "Python 3.6", 
            "name": "python3", 
            "language": "python"
        }, 
        "language_info": {
            "mimetype": "text/x-python", 
            "nbconvert_exporter": "python", 
            "version": "3.6.8", 
            "name": "python", 
            "pygments_lexer": "ipython3", 
            "file_extension": ".py", 
            "codemirror_mode": {
                "version": 3, 
                "name": "ipython"
            }
        }
    }, 
    "nbformat": 4
}